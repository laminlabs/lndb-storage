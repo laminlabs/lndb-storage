{
 "cells": [
  {
   "cell_type": "markdown",
   "id": "dd6bf8d1-ba40-4054-9f62-a402588f7a95",
   "metadata": {},
   "source": [
    "# Upload files"
   ]
  },
  {
   "cell_type": "code",
   "execution_count": null,
   "id": "8c21d20e-0f4e-4097-a37a-ba784addc412",
   "metadata": {},
   "outputs": [],
   "source": [
    "!lamin login testuser1\n",
    "!lamin load testuser1/lndb-storage\n",
    "!lamin delete lndb-storage\n",
    "!lamin init --storage s3://lamindb-ci --name lndb-storage"
   ]
  },
  {
   "cell_type": "code",
   "execution_count": null,
   "id": "8eb097f4-4114-4a35-8764-ebcfe1e85bdc",
   "metadata": {},
   "outputs": [],
   "source": [
    "import lamindb as ln\n",
    "\n",
    "ln.track()"
   ]
  },
  {
   "cell_type": "markdown",
   "id": "b11215af-bb7f-4932-83ee-8f46f5583ed8",
   "metadata": {},
   "source": [
    "Some test data."
   ]
  },
  {
   "cell_type": "code",
   "execution_count": null,
   "id": "077344a2-4f18-47c9-b8a5-c3c6411511db",
   "metadata": {},
   "outputs": [],
   "source": [
    "pbmc68k = ln.dev.datasets.anndata_pbmc68k_reduced()"
   ]
  },
  {
   "cell_type": "markdown",
   "id": "8138a887-2de8-4ad9-ad8b-63324263fb7d",
   "metadata": {},
   "source": [
    "## Upload h5ad from memory using `key`"
   ]
  },
  {
   "cell_type": "code",
   "execution_count": null,
   "id": "fcff7272-13df-46f9-ab63-25921a507f98",
   "metadata": {},
   "outputs": [],
   "source": [
    "pbmc68k_h5ad = ln.File(pbmc68k, key=\"test-upload/pbmc68k.h5ad\")"
   ]
  },
  {
   "cell_type": "code",
   "execution_count": null,
   "id": "a97617fd-0f41-43f1-9919-25acab3df0c5",
   "metadata": {},
   "outputs": [],
   "source": [
    "ln.add(pbmc68k_h5ad)"
   ]
  },
  {
   "cell_type": "markdown",
   "id": "ff0e34cd-8ebd-4196-a7bd-a667b2a360a1",
   "metadata": {},
   "source": [
    "## Upload zarr from memory using `key`"
   ]
  },
  {
   "cell_type": "code",
   "execution_count": null,
   "id": "b66ec0af-9c93-438a-8280-d93fe657bbfb",
   "metadata": {},
   "outputs": [],
   "source": [
    "pbmc68k_zarr = ln.File(pbmc68k, key=\"test-upload/pbmc68k.zarr\", format=\"zarr\")"
   ]
  },
  {
   "cell_type": "code",
   "execution_count": null,
   "id": "7da05e34-ee3c-420e-abd3-96adfae8d3d0",
   "metadata": {},
   "outputs": [],
   "source": [
    "ln.add(pbmc68k_zarr)"
   ]
  },
  {
   "cell_type": "markdown",
   "id": "0acf57af-fbcd-4823-bc9c-4b7a64ab813d",
   "metadata": {},
   "source": [
    "## Clean up"
   ]
  },
  {
   "cell_type": "code",
   "execution_count": null,
   "id": "0e293606-f47f-4da6-9beb-433eea607309",
   "metadata": {},
   "outputs": [],
   "source": [
    "ln.delete(files, delete_data_from_storage=True)"
   ]
  },
  {
   "cell_type": "markdown",
   "id": "06a91d99-d204-4ec2-b567-960a2aaad38d",
   "metadata": {},
   "source": [
    "## Error behavior"
   ]
  },
  {
   "cell_type": "code",
   "execution_count": null,
   "id": "de2f9c7b-994c-417a-a700-f517a29df78e",
   "metadata": {},
   "outputs": [],
   "source": [
    "with pytest.raises(ValueError):\n",
    "    pbmc68k_zarr = ln.File(\"s3://inexistent-bucket-239809834/pbmc68k.zarr\")"
   ]
  }
 ],
 "metadata": {
  "kernelspec": {
   "display_name": "Python 3 (ipykernel)",
   "language": "python",
   "name": "python3"
  },
  "language_info": {
   "codemirror_mode": {
    "name": "ipython",
    "version": 3
   },
   "file_extension": ".py",
   "mimetype": "text/x-python",
   "name": "python",
   "nbconvert_exporter": "python",
   "pygments_lexer": "ipython3",
   "version": "3.9.15"
  },
  "nbproject": {
   "id": "psZgub4FOmzS",
   "parent": null,
   "pypackage": null,
   "time_init": "2023-04-09T20:01:57.780053+00:00",
   "user_handle": "testuser1",
   "user_id": "DzTjkKse",
   "user_name": "Test User1",
   "version": "0"
  }
 },
 "nbformat": 4,
 "nbformat_minor": 5
}
